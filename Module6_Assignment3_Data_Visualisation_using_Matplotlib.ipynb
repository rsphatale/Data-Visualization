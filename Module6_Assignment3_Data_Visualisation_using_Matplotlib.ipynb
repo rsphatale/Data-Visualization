{
  "nbformat": 4,
  "nbformat_minor": 0,
  "metadata": {
    "colab": {
      "name": "Module6_Assignment3_Data Visualisation using Matplotlib.ipynb",
      "provenance": [],
      "collapsed_sections": []
    },
    "kernelspec": {
      "name": "python3",
      "display_name": "Python 3"
    },
    "language_info": {
      "name": "python"
    }
  },
  "cells": [
    {
      "cell_type": "code",
      "source": [
        "import matplotlib.pyplot as plt\n",
        "import pandas as pd\n",
        "%matplotlib inline"
      ],
      "metadata": {
        "id": "7rjb4a_0xrlo"
      },
      "execution_count": 1,
      "outputs": []
    },
    {
      "cell_type": "code",
      "source": [
        "cars= pd.read_csv('/content/cars.csv')"
      ],
      "metadata": {
        "id": "kIfwUbqXxy5b"
      },
      "execution_count": 2,
      "outputs": []
    },
    {
      "cell_type": "code",
      "source": [
        "plt.hist(cars['wt'], bins= 30)\n",
        "plt.xlabel('Weigth of Cars')\n",
        "plt.ylabel('Count')\n",
        "plt.title('Histogram for weight values')\n",
        "plt.show()"
      ],
      "metadata": {
        "colab": {
          "base_uri": "https://localhost:8080/",
          "height": 295
        },
        "id": "gFzMEBBdyy72",
        "outputId": "d7ae5f2a-8fc6-4f65-e6f2-5eac8f4bd260"
      },
      "execution_count": 3,
      "outputs": [
        {
          "output_type": "display_data",
          "data": {
            "text/plain": [
              "<Figure size 432x288 with 1 Axes>"
            ],
            "image/png": "[encoded data removed]"
          },
          "metadata": {
            "needs_background": "light"
          }
        }
      ]
    },
    {
      "cell_type": "code",
      "source": [
        ""
      ],
      "metadata": {
        "id": "bkIBmlrd0qpN"
      },
      "execution_count": null,
      "outputs": []
    }
  ]
}